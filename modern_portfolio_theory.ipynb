{
  "nbformat": 4,
  "nbformat_minor": 5,
  "metadata": {
    "kernelspec": {
      "display_name": "cs231n",
      "language": "python",
      "name": "cs231n"
    },
    "language_info": {
      "codemirror_mode": {
        "name": "ipython",
        "version": 3
      },
      "file_extension": ".py",
      "mimetype": "text/x-python",
      "name": "python",
      "nbconvert_exporter": "python",
      "pygments_lexer": "ipython3",
      "version": "3.7.8"
    },
    "varInspector": {
      "cols": {
        "lenName": 16,
        "lenType": 16,
        "lenVar": 40
      },
      "kernels_config": {
        "python": {
          "delete_cmd_postfix": "",
          "delete_cmd_prefix": "del ",
          "library": "var_list.py",
          "varRefreshCmd": "print(var_dic_list())"
        },
        "r": {
          "delete_cmd_postfix": ") ",
          "delete_cmd_prefix": "rm(",
          "library": "var_list.r",
          "varRefreshCmd": "cat(var_dic_list()) "
        }
      },
      "types_to_exclude": [
        "module",
        "function",
        "builtin_function_or_method",
        "instance",
        "_Feature"
      ],
      "window_display": false
    },
    "colab": {
      "name": "modern_portfolio_theory.ipynb",
      "provenance": [],
      "collapsed_sections": [],
      "include_colab_link": true
    }
  },
  "cells": [
    {
      "cell_type": "markdown",
      "metadata": {
        "id": "view-in-github",
        "colab_type": "text"
      },
      "source": [
        "<a href=\"https://colab.research.google.com/github/rohitnikam1/Portfolio_Optimization/blob/master/modern_portfolio_theory.ipynb\" target=\"_parent\"><img src=\"https://colab.research.google.com/assets/colab-badge.svg\" alt=\"Open In Colab\"/></a>"
      ]
    },
    {
      "cell_type": "markdown",
      "metadata": {
        "id": "RSYpZinhOfbY"
      },
      "source": [
        "# **Implementation of Modern Portfolio Theory**\n",
        "## **Import relevant packages**\n",
        "Ideally, one should set up their own virtual environment and determine the versions of each library that they are using. Here, we will assume that the colaboratory environment has some shared environment with access to common python libraries and the ability to install other required libraries."
      ],
      "id": "RSYpZinhOfbY"
    },
    {
      "cell_type": "code",
      "metadata": {
        "colab": {
          "base_uri": "https://localhost:8080/"
        },
        "id": "X7z_AgnhvG64",
        "outputId": "95153481-dfd2-4086-e0ae-e56606fbf76b"
      },
      "source": [
        "!pip install yfinance"
      ],
      "id": "X7z_AgnhvG64",
      "execution_count": 2,
      "outputs": [
        {
          "output_type": "stream",
          "name": "stdout",
          "text": [
            "Collecting yfinance\n",
            "  Downloading yfinance-0.1.63.tar.gz (26 kB)\n",
            "Requirement already satisfied: pandas>=0.24 in /usr/local/lib/python3.7/dist-packages (from yfinance) (1.1.5)\n",
            "Requirement already satisfied: numpy>=1.15 in /usr/local/lib/python3.7/dist-packages (from yfinance) (1.19.5)\n",
            "Requirement already satisfied: requests>=2.20 in /usr/local/lib/python3.7/dist-packages (from yfinance) (2.23.0)\n",
            "Requirement already satisfied: multitasking>=0.0.7 in /usr/local/lib/python3.7/dist-packages (from yfinance) (0.0.9)\n",
            "Collecting lxml>=4.5.1\n",
            "  Downloading lxml-4.6.3-cp37-cp37m-manylinux2014_x86_64.whl (6.3 MB)\n",
            "\u001b[K     |████████████████████████████████| 6.3 MB 48.7 MB/s \n",
            "\u001b[?25hRequirement already satisfied: pytz>=2017.2 in /usr/local/lib/python3.7/dist-packages (from pandas>=0.24->yfinance) (2018.9)\n",
            "Requirement already satisfied: python-dateutil>=2.7.3 in /usr/local/lib/python3.7/dist-packages (from pandas>=0.24->yfinance) (2.8.2)\n",
            "Requirement already satisfied: six>=1.5 in /usr/local/lib/python3.7/dist-packages (from python-dateutil>=2.7.3->pandas>=0.24->yfinance) (1.15.0)\n",
            "Requirement already satisfied: chardet<4,>=3.0.2 in /usr/local/lib/python3.7/dist-packages (from requests>=2.20->yfinance) (3.0.4)\n",
            "Requirement already satisfied: certifi>=2017.4.17 in /usr/local/lib/python3.7/dist-packages (from requests>=2.20->yfinance) (2021.5.30)\n",
            "Requirement already satisfied: idna<3,>=2.5 in /usr/local/lib/python3.7/dist-packages (from requests>=2.20->yfinance) (2.10)\n",
            "Requirement already satisfied: urllib3!=1.25.0,!=1.25.1,<1.26,>=1.21.1 in /usr/local/lib/python3.7/dist-packages (from requests>=2.20->yfinance) (1.24.3)\n",
            "Building wheels for collected packages: yfinance\n",
            "  Building wheel for yfinance (setup.py) ... \u001b[?25l\u001b[?25hdone\n",
            "  Created wheel for yfinance: filename=yfinance-0.1.63-py2.py3-none-any.whl size=23918 sha256=05e15a88fc849af7604564999772298e0ed478d116a3a0685603d5ce67802b4d\n",
            "  Stored in directory: /root/.cache/pip/wheels/fe/87/8b/7ec24486e001d3926537f5f7801f57a74d181be25b11157983\n",
            "Successfully built yfinance\n",
            "Installing collected packages: lxml, yfinance\n",
            "  Attempting uninstall: lxml\n",
            "    Found existing installation: lxml 4.2.6\n",
            "    Uninstalling lxml-4.2.6:\n",
            "      Successfully uninstalled lxml-4.2.6\n",
            "Successfully installed lxml-4.6.3 yfinance-0.1.63\n"
          ]
        }
      ]
    },
    {
      "cell_type": "code",
      "metadata": {
        "id": "ad8879b7"
      },
      "source": [
        "import numpy as np\n",
        "import pandas as pd\n",
        "from pandas_datareader import data as pdr\n",
        "import yfinance as yf\n",
        "import datetime\n",
        "import scipy.optimize as opt\n",
        "import matplotlib.pyplot as plt\n",
        "import seaborn as sns\n",
        "from IPython.display import display\n",
        "\n",
        "\n",
        "# Set formatting\n",
        "yf.pdr_override()\n",
        "%matplotlib inline\n",
        "sns.set()\n",
        "pd.set_option('display.max_columns', 100)\n",
        "pd.set_option('display.max_rows', 100)"
      ],
      "id": "ad8879b7",
      "execution_count": 62,
      "outputs": []
    },
    {
      "cell_type": "markdown",
      "metadata": {
        "id": "9283011a"
      },
      "source": [
        "## **Get the data**\n",
        "Below we write a function to get the close value data for a given stock."
      ],
      "id": "9283011a"
    },
    {
      "cell_type": "code",
      "metadata": {
        "id": "b114dacc"
      },
      "source": [
        "def get_data(stocks, start, end):\n",
        "  '''Import the stock data'''\n",
        "  stockData = pdr.get_data_yahoo(stocks, start=start, end=end)\n",
        "  stockData = stockData['Close']\n",
        "  return stockData"
      ],
      "id": "b114dacc",
      "execution_count": 5,
      "outputs": []
    },
    {
      "cell_type": "markdown",
      "metadata": {
        "id": "_WNLCYzsPNHR"
      },
      "source": [
        "We in fact need returns of the close value of each stock, which we calculate below."
      ],
      "id": "_WNLCYzsPNHR"
    },
    {
      "cell_type": "code",
      "metadata": {
        "id": "f6ca1801"
      },
      "source": [
        "def get_returns(stockData):\n",
        "  '''Get stock returns from stock data'''\n",
        "  returns = stockData.pct_change()\n",
        "  return returns[1:]"
      ],
      "id": "f6ca1801",
      "execution_count": 6,
      "outputs": []
    },
    {
      "cell_type": "markdown",
      "metadata": {
        "id": "g_zBmpaIPeuZ"
      },
      "source": [
        "We now fill our stock inventory with some stocks. We have Goldman Sachs, Tesla and Manchester United. We also need to mention the time period for which we intend to gather the stock data for these tickers, which we do by defining start date and end date."
      ],
      "id": "g_zBmpaIPeuZ"
    },
    {
      "cell_type": "code",
      "metadata": {
        "id": "b0419936"
      },
      "source": [
        "stocklist = ['GS', 'TSLA', 'MANU']\n",
        "\n",
        "endDate = datetime.datetime.now()\n",
        "startDate = endDate - datetime.timedelta(days=365)"
      ],
      "id": "b0419936",
      "execution_count": 7,
      "outputs": []
    },
    {
      "cell_type": "markdown",
      "metadata": {
        "id": "KstIJZH_RvOU"
      },
      "source": [
        "The descriptive statistics of the obtained returns data can now be calculated in terms of the mean returns and the covariance matrix as follows:"
      ],
      "id": "KstIJZH_RvOU"
    },
    {
      "cell_type": "code",
      "metadata": {
        "id": "afc5a822"
      },
      "source": [
        "def get_stats(returns):\n",
        "    '''Return mean and covariance matrix of returns'''\n",
        "    meanReturns, covMatrix = returns.mean(), returns.cov()\n",
        "    return meanReturns, covMatrix "
      ],
      "id": "afc5a822",
      "execution_count": 8,
      "outputs": []
    },
    {
      "cell_type": "markdown",
      "metadata": {
        "id": "MrTmpRs1SArt"
      },
      "source": [
        "The performance of a portfolio consisting of these stocks and for certain weights can be quantified in terms of the portfolio returns and portfolio variance (or standard deviation), given as:"
      ],
      "id": "MrTmpRs1SArt"
    },
    {
      "cell_type": "code",
      "metadata": {
        "id": "dcce815c"
      },
      "source": [
        "def portfolioPerformance(weights, meanReturns, covMatrix):\n",
        "    '''Portfolio returns and std deviation for given weights'''\n",
        "    portRet = np.dot(weights, meanReturns)*252\n",
        "    portStd = np.sqrt(np.dot(weights.T, np.dot(covMatrix, weights))*252)\n",
        "    return portRet, portStd"
      ],
      "id": "dcce815c",
      "execution_count": 9,
      "outputs": []
    },
    {
      "cell_type": "markdown",
      "metadata": {
        "id": "6SEWnrs2TSsw"
      },
      "source": [
        "It's now time to initialize the weights vector."
      ],
      "id": "6SEWnrs2TSsw"
    },
    {
      "cell_type": "code",
      "metadata": {
        "colab": {
          "base_uri": "https://localhost:8080/",
          "height": 290
        },
        "id": "fb7edf04",
        "outputId": "2a17f0e7-3244-42ec-fe58-dc59bb9267b1"
      },
      "source": [
        "# Initializing weights\n",
        "weights = np.random.rand((len(stocklist)))\n",
        "weights = weights / np.sum(weights)\n",
        "print(f'Initialized weights: {weights}')\n",
        "\n",
        "# Obtaining the returns data for given tickers and time duration\n",
        "returns = get_returns(get_data(stocklist, start=startDate, end=endDate))\n",
        "display(returns.head())\n",
        "\n",
        "# Calculating the returns stats and the corresponding portfolio performance based on weights\n",
        "meanReturns, covMatrix = get_stats(returns)\n",
        "portRet, portStd = portfolioPerformance(weights, meanReturns, covMatrix)\n",
        "print(f'portRet: {portRet*100:.1f}', f'portStd: {portStd*100:.1f}')"
      ],
      "id": "fb7edf04",
      "execution_count": 115,
      "outputs": [
        {
          "output_type": "stream",
          "name": "stdout",
          "text": [
            "Initialized weights: [0.18625424 0.45906732 0.35467844]\n",
            "[*********************100%***********************]  3 of 3 completed\n"
          ]
        },
        {
          "output_type": "display_data",
          "data": {
            "text/html": [
              "<div>\n",
              "<style scoped>\n",
              "    .dataframe tbody tr th:only-of-type {\n",
              "        vertical-align: middle;\n",
              "    }\n",
              "\n",
              "    .dataframe tbody tr th {\n",
              "        vertical-align: top;\n",
              "    }\n",
              "\n",
              "    .dataframe thead th {\n",
              "        text-align: right;\n",
              "    }\n",
              "</style>\n",
              "<table border=\"1\" class=\"dataframe\">\n",
              "  <thead>\n",
              "    <tr style=\"text-align: right;\">\n",
              "      <th></th>\n",
              "      <th>GS</th>\n",
              "      <th>MANU</th>\n",
              "      <th>TSLA</th>\n",
              "    </tr>\n",
              "    <tr>\n",
              "      <th>Date</th>\n",
              "      <th></th>\n",
              "      <th></th>\n",
              "      <th></th>\n",
              "    </tr>\n",
              "  </thead>\n",
              "  <tbody>\n",
              "    <tr>\n",
              "      <th>2020-10-16</th>\n",
              "      <td>-0.011457</td>\n",
              "      <td>-0.009326</td>\n",
              "      <td>-0.020518</td>\n",
              "    </tr>\n",
              "    <tr>\n",
              "      <th>2020-10-19</th>\n",
              "      <td>-0.002522</td>\n",
              "      <td>-0.023896</td>\n",
              "      <td>-0.020106</td>\n",
              "    </tr>\n",
              "    <tr>\n",
              "      <th>2020-10-20</th>\n",
              "      <td>0.011376</td>\n",
              "      <td>-0.011869</td>\n",
              "      <td>-0.020635</td>\n",
              "    </tr>\n",
              "    <tr>\n",
              "      <th>2020-10-21</th>\n",
              "      <td>-0.024612</td>\n",
              "      <td>0.093093</td>\n",
              "      <td>0.001659</td>\n",
              "    </tr>\n",
              "    <tr>\n",
              "      <th>2020-10-22</th>\n",
              "      <td>0.012271</td>\n",
              "      <td>-0.026099</td>\n",
              "      <td>0.007453</td>\n",
              "    </tr>\n",
              "  </tbody>\n",
              "</table>\n",
              "</div>"
            ],
            "text/plain": [
              "                  GS      MANU      TSLA\n",
              "Date                                    \n",
              "2020-10-16 -0.011457 -0.009326 -0.020518\n",
              "2020-10-19 -0.002522 -0.023896 -0.020106\n",
              "2020-10-20  0.011376 -0.011869 -0.020635\n",
              "2020-10-21 -0.024612  0.093093  0.001659\n",
              "2020-10-22  0.012271 -0.026099  0.007453"
            ]
          },
          "metadata": {}
        },
        {
          "output_type": "stream",
          "name": "stdout",
          "text": [
            "portRet: 51.7 portStd: 28.1\n"
          ]
        }
      ]
    },
    {
      "cell_type": "markdown",
      "metadata": {
        "id": "D2l0yM_gi13O"
      },
      "source": [
        "The historical relationship between returns of two stocks is given by the correlation coefficient. It may provide a guide to the future relationship between the assets as well. Below we calculate such correlation matrix for our stocks."
      ],
      "id": "D2l0yM_gi13O"
    },
    {
      "cell_type": "code",
      "metadata": {
        "id": "b4b282df"
      },
      "source": [
        "def get_correlation(returns):\n",
        "    '''\n",
        "    Get stock returns and return Pearson correlation coeffiecient of each pair\n",
        "    '''\n",
        "    corr = returns.corr(method='pearson')\n",
        "    sns.set_style(\"white\")\n",
        "    mask = np.triu(np.ones_like(corr, dtype=bool))   # Generate a mask for the upper triangle\n",
        "\n",
        "    s = sns.heatmap(corr, \n",
        "                    annot = True, \n",
        "                    mask=mask, \n",
        "                    fmt = '.2f', \n",
        "                    cmap = 'RdBu',\n",
        "                    vmin = -1,\n",
        "                    vmax = 1,\n",
        "                    annot_kws={\"fontsize\":14})\n",
        "    s.set_yticklabels(s.get_yticklabels(), rotation = 0, fontsize = 14)\n",
        "    s.set_xticklabels(s.get_xticklabels(), rotation = 0, fontsize = 14)\n",
        "    plt.title('Correlation Heatmap', fontsize = 20)\n",
        "\n",
        "    plt.show()\n",
        "    plt.close()\n",
        "    \n",
        "    return"
      ],
      "id": "b4b282df",
      "execution_count": 11,
      "outputs": []
    },
    {
      "cell_type": "code",
      "metadata": {
        "colab": {
          "base_uri": "https://localhost:8080/",
          "height": 293
        },
        "id": "657a82a7",
        "outputId": "9d00e77e-d9b7-4624-8fa0-42a75f03a502"
      },
      "source": [
        "get_correlation(returns=returns)"
      ],
      "id": "657a82a7",
      "execution_count": 12,
      "outputs": [
        {
          "output_type": "display_data",
          "data": {
            "image/png": "[encoded data removed]",
            "text/plain": [
              "<Figure size 432x288 with 2 Axes>"
            ]
          },
          "metadata": {}
        }
      ]
    },
    {
      "cell_type": "markdown",
      "metadata": {
        "id": "Uss2c1OCkDhC"
      },
      "source": [
        "We now optimize our portfolio for **Maximum Sharpe Ratio**, i.e., the weights that give the highest return for a volatility."
      ],
      "id": "Uss2c1OCkDhC"
    },
    {
      "cell_type": "markdown",
      "metadata": {
        "id": "qJqW7aH9Aamc"
      },
      "source": [
        "## **Optimize the portfolio for the maximum Sharpe Ratio**\n",
        "![](https://drive.google.com/uc?export=view&id=1dQvyr3lTvSYFt_iW0j7-l-sZvc-VGZil)"
      ],
      "id": "qJqW7aH9Aamc"
    },
    {
      "cell_type": "code",
      "metadata": {
        "id": "f8eec73f"
      },
      "source": [
        "# Objective Function: Negative Sharpe Ratio\n",
        "def negativeSR(weights, meanReturns, covMatrix, riskFreeRate = 0):\n",
        "    portRet, portStd = portfolioPerformance(weights, meanReturns, covMatrix)\n",
        "    return -(portRet - riskFreeRate)/portStd"
      ],
      "id": "f8eec73f",
      "execution_count": 13,
      "outputs": []
    },
    {
      "cell_type": "code",
      "metadata": {
        "id": "5c3f3708"
      },
      "source": [
        "# Minimizing the negative Sharpe ratio by altering weights, with full investment constraint\n",
        "\n",
        "def maxSR(meanReturns, covMatrix, riskFreeRate = 0, constraintSet = (0,1)):\n",
        "    '''\n",
        "    Minimize the negative Sharpe Ratio by altering the portfolio weights.\n",
        "    constraintSet is a tuple of lower and upper bound for the weight of each asset\n",
        "    '''\n",
        "    numAssets = len(meanReturns)\n",
        "    args = (meanReturns, covMatrix, riskFreeRate)\n",
        "    constraints = ({'type':'eq', 'fun': lambda x: np.sum(x) - 1}) #fully invested\n",
        "    bounds = tuple(constraintSet for asset in range(numAssets))   #long only\n",
        "    results = opt.minimize(negativeSR, numAssets*[1./numAssets], args=args, method='SLSQP',\n",
        "                           constraints=constraints, bounds=bounds)\n",
        "    return results"
      ],
      "id": "5c3f3708",
      "execution_count": 14,
      "outputs": []
    },
    {
      "cell_type": "code",
      "metadata": {
        "scrolled": true,
        "colab": {
          "base_uri": "https://localhost:8080/"
        },
        "id": "b20dada3",
        "outputId": "c1d181b6-5abe-4674-cef8-7d1cf274510d"
      },
      "source": [
        "# Collect relevant results\n",
        "result = maxSR(meanReturns, covMatrix)\n",
        "maxSharpeRatio, weights = -result['fun'], result['x']\n",
        "print(f'Max Sharpe Ratio: {maxSharpeRatio*100:.1f}%')\n",
        "print(f'Weights that give Max SR: {np.round(weights*100, 1)}%')"
      ],
      "id": "b20dada3",
      "execution_count": 118,
      "outputs": [
        {
          "output_type": "stream",
          "name": "stdout",
          "text": [
            "Max Sharpe Ratio: 287.8%\n",
            "Weights that give Max SR: [80.8  0.  19.2]%\n"
          ]
        }
      ]
    },
    {
      "cell_type": "markdown",
      "metadata": {
        "id": "8ETOwAyQnQxl"
      },
      "source": [
        "So it looks like investing $80.8$%, and $19.2$% of our capital in Goldman Sachs and Tesla stocks gives us the highest return to volatility ratio. The model suggests not to invest in Manchester United at the moment."
      ],
      "id": "8ETOwAyQnQxl"
    },
    {
      "cell_type": "markdown",
      "metadata": {
        "id": "jlxq3a_yt2fi"
      },
      "source": [
        "## **Maximize the quadratic utility**\n",
        "Von Neumann-Morgenstern utility theory suggests that for making rational decisions under uncertain market conditions, one should refer to a utility function for the capital. The optimal portfolio thus then solves the expected utility maximization problem. Below is a quadratic utility maximization problem. \n",
        "![](https://drive.google.com/uc?export=view&id=156JCkwP4zPOJ1HArnOsDktCWWLK0YvYk)"
      ],
      "id": "jlxq3a_yt2fi"
    },
    {
      "cell_type": "code",
      "metadata": {
        "id": "850f8279"
      },
      "source": [
        "# Objective function: Negative quadratic utility\n",
        "def quadUtil(weights, meanReturns, covMatrix, riskAversion = 0.5):\n",
        "    portRet, portStd = portfolioPerformance(weights, meanReturns, covMatrix)\n",
        "    return - portRet + riskAversion*portStd**2"
      ],
      "id": "850f8279",
      "execution_count": 16,
      "outputs": []
    },
    {
      "cell_type": "code",
      "metadata": {
        "id": "0b30f84d"
      },
      "source": [
        "def maxQuadUtil(meanReturns, covMatrix, riskAversion = 0.5, constraintSet = (0,1)):\n",
        "    '''\n",
        "    Minimize the negative quadratic utility.\n",
        "    '''\n",
        "    numAssets = len(meanReturns)\n",
        "    args = (meanReturns, covMatrix, riskAversion)\n",
        "    constraints = ({'type':'eq', 'fun': lambda x: np.sum(x) - 1}) #fully invested\n",
        "    bounds = tuple(constraintSet for asset in range(numAssets))   #long only\n",
        "    results = opt.minimize(quadUtil, numAssets*[1./numAssets], args=args, method='SLSQP',\n",
        "                           constraints=constraints, bounds=bounds)\n",
        "    return results"
      ],
      "id": "0b30f84d",
      "execution_count": 17,
      "outputs": []
    },
    {
      "cell_type": "code",
      "metadata": {
        "scrolled": true,
        "colab": {
          "base_uri": "https://localhost:8080/"
        },
        "id": "0064fbf0",
        "outputId": "c65db53e-8b77-4f39-f388-97bcdd6a5790"
      },
      "source": [
        "# Collecting relevant results\n",
        "result = maxQuadUtil(meanReturns, covMatrix)\n",
        "maxQU, maxUtilweights = -result['fun'], result['x']\n",
        "print(f'Max Utility: {maxQU*100:.1f}%')\n",
        "print(f'Weights that give Max Utility: {np.round(maxUtilweights*100, 1)}%')"
      ],
      "id": "0064fbf0",
      "execution_count": 113,
      "outputs": [
        {
          "output_type": "stream",
          "name": "stdout",
          "text": [
            "Max Utility: 68.3%\n",
            "Weights that give Max Utility: [64.  0. 36.]%\n"
          ]
        }
      ]
    },
    {
      "cell_type": "markdown",
      "metadata": {
        "id": "50eaadba"
      },
      "source": [
        "## **Minimize Volatility**\n",
        "We now construct a portfolio with a minimum risk, i.e., minimum variance. The optimization problem can then be expressed as:\n",
        "![](https://drive.google.com/uc?export=view&id=1SpAGm4Jny-losWznbv1wTS67ZglfoSEn)"
      ],
      "id": "50eaadba"
    },
    {
      "cell_type": "code",
      "metadata": {
        "id": "a62d4b34"
      },
      "source": [
        "# Objective function: Portfolio variance\n",
        "def portVar(weights, meanReturns, covMatrix):\n",
        "    '''Returns only the portfolio std deviation from stock data'''\n",
        "    return portfolioPerformance(weights, meanReturns, covMatrix)[1]"
      ],
      "id": "a62d4b34",
      "execution_count": 19,
      "outputs": []
    },
    {
      "cell_type": "code",
      "metadata": {
        "id": "322672f6"
      },
      "source": [
        "def minimizeVariance(meanReturns, covMatrix, constraintSet = (0,1)):\n",
        "    '''Minimize the portfolio variance. Returns the minima of portfolio std-mean curve'''\n",
        "    numAssets = len(meanReturns)\n",
        "    args = (meanReturns, covMatrix)\n",
        "    constraints = ({'type':'eq', 'fun': lambda x: np.sum(x) - 1}) #fully invested\n",
        "    bounds = tuple(constraintSet for asset in range(numAssets))   #long-only\n",
        "    results = opt.minimize(portVar, numAssets*[1./numAssets], args=args, method='SLSQP',\n",
        "                           constraints=constraints, bounds=bounds)\n",
        "    return results"
      ],
      "id": "322672f6",
      "execution_count": 20,
      "outputs": []
    },
    {
      "cell_type": "code",
      "metadata": {
        "scrolled": true,
        "colab": {
          "base_uri": "https://localhost:8080/"
        },
        "id": "4cb99770",
        "outputId": "8b0e1768-dcc5-4941-9ccc-42fc10acc448"
      },
      "source": [
        "# Collecting relevant results\n",
        "minVarResult = minimizeVariance(meanReturns, covMatrix)\n",
        "minVar, minVarweights = minVarResult['fun'], minVarResult['x']\n",
        "print(f'Min Variance: {minVar*100:.1f}%')\n",
        "print(f'Weights that give Min Variance: {np.round(minVarweights*100, 1)}%')"
      ],
      "id": "4cb99770",
      "execution_count": 117,
      "outputs": [
        {
          "output_type": "stream",
          "name": "stdout",
          "text": [
            "Min Variance: 23.1%\n",
            "Weights that give Min Variance: [62.  23.2 14.7]%\n"
          ]
        }
      ]
    },
    {
      "cell_type": "markdown",
      "metadata": {
        "id": "xAoCOvE89jY1"
      },
      "source": [
        "## **Mimimize volatility under returns constraint: The Efficient Frontier**\n",
        "In modern portfolio theory, **The Efficient Frontier** is a set of portfolios with lowest possible standard deviation of target returns (i.e., the risk), for the target expected returns. The optimization problem then changes to:\n",
        "\n",
        "![](https://drive.google.com/uc?export=view&id=1g34JcyVHFBpnpFWs9Z80quQxFZAP0b-G)\n",
        "\n",
        "In order to plot the efficient frontier, we first solve the above optimization problem for a single value of the returns in constraints. The returns constraints are then changed for different target returns to get corresponding weights that minimize the portfolio variance."
      ],
      "id": "xAoCOvE89jY1"
    },
    {
      "cell_type": "code",
      "metadata": {
        "id": "5e0c5b3d"
      },
      "source": [
        "# Objective function: Portfolio returns\n",
        "def portRet(weights, meanReturns, covMatrix):\n",
        "    '''Returns only the portfolio returns from stock data'''\n",
        "    return portfolioPerformance(weights, meanReturns, covMatrix)[0]"
      ],
      "id": "5e0c5b3d",
      "execution_count": 22,
      "outputs": []
    },
    {
      "cell_type": "code",
      "metadata": {
        "id": "da582c78"
      },
      "source": [
        "def efficient_opt(meanReturns, covMatrix, returnTarget, constraintSet=(0,1)):\n",
        "    '''For each return target, minimize the portfolio variance'''\n",
        "    numAssets = len(meanReturns)\n",
        "    args = (meanReturns, covMatrix)\n",
        "    constraints = ({'type':'eq',   'fun': lambda x: np.sum(x) - 1}, #fully invested\n",
        "                   {'type':'ineq', 'fun': lambda x: portRet(x,meanReturns,covMatrix) - returnTarget}) #fixed target return\n",
        "    bounds = tuple(constraintSet for asset in range(numAssets))\n",
        "    results = opt.minimize(portVar, numAssets*[1./numAssets], args=args, method='SLSQP',\n",
        "                           constraints=constraints, bounds=bounds)\n",
        "    return results"
      ],
      "id": "da582c78",
      "execution_count": 23,
      "outputs": []
    },
    {
      "cell_type": "markdown",
      "metadata": {
        "id": "YWqFrPjchh91"
      },
      "source": [
        "The above function is now used to get portfolio variances for multiple target returns, as shown in the function below:"
      ],
      "id": "YWqFrPjchh91"
    },
    {
      "cell_type": "code",
      "metadata": {
        "id": "619a6c5f"
      },
      "source": [
        "def calculatedResults(meanReturns, covMatrix, riskFreeRate=0, constraintSet=(0,1)):\n",
        "    '''\n",
        "    Read in mean, covariance matrix and other financial information and \n",
        "    return max Sharpe Ratio, Min Volatility and efficient frontier\n",
        "    '''\n",
        "    # Max Sharpe Ratio Portfolio: return corresponding returns, std and weights\n",
        "    maxSR_weights = maxSR(meanReturns, covMatrix)['x']\n",
        "    maxSR_returns, maxSR_std = portfolioPerformance(maxSR_weights, meanReturns, covMatrix)\n",
        "    maxSR_allocation = pd.DataFrame(maxSR_weights, index = meanReturns.index, columns = ['Allocation'])\n",
        "    maxSR_allocation['Allocation'] = [round(i*100,1) for i in maxSR_allocation['Allocation'] ]\n",
        "    \n",
        "    # Min Volatility Portfolio: return corresponding returns, std and weights\n",
        "    minVar_weights = minimizeVariance(meanReturns, covMatrix)['x']\n",
        "    minVar_returns, minVar_std = portfolioPerformance(minVar_weights, meanReturns, covMatrix)\n",
        "    minVar_allocation = pd.DataFrame(minVar_weights, index = meanReturns.index, columns = ['Allocation'])\n",
        "    minVar_allocation['Allocation'] = [round(i*100,1) for i in minVar_allocation['Allocation'] ]\n",
        "    \n",
        "    #Efficient frontier\n",
        "    efficient_list = []\n",
        "    targetReturns = np.linspace(minVar_returns, maxSR_returns, 20)\n",
        "    \n",
        "    for target in targetReturns:\n",
        "        efficient_list.append(efficient_opt(meanReturns, covMatrix, target)['fun'])\n",
        "        \n",
        "    \n",
        "    return round(maxSR_returns*100,2),  round(maxSR_std*100,2),  maxSR_allocation, \\\n",
        "           round(minVar_returns*100,2), round(minVar_std*100,2), minVar_allocation,\\\n",
        "           efficient_list, targetReturns"
      ],
      "id": "619a6c5f",
      "execution_count": 25,
      "outputs": []
    },
    {
      "cell_type": "markdown",
      "metadata": {
        "id": "WI1Uz2hvgUKj"
      },
      "source": [
        "The results from the function above, i.e., locations of maximum Sharpe ratio, minimum volatility and efficient frontier array will be used in the plotting function below:"
      ],
      "id": "WI1Uz2hvgUKj"
    },
    {
      "cell_type": "code",
      "metadata": {
        "id": "Vg6qjx--UqZo"
      },
      "source": [
        "def EF_graph(meanReturns, covMatrix, riskFreeRate=0, constraintSet=(0,1)):\n",
        "    \"\"\"\n",
        "    Return a graph ploting the min vol, max sr and efficient frontier\n",
        "    \"\"\"\n",
        "    maxSR_returns, maxSR_std, maxSR_allocation, minVol_returns, minVol_std,\\\n",
        "    minVol_allocation, efficientList, targetReturns = calculatedResults(meanReturns, covMatrix, riskFreeRate, constraintSet)\n",
        "\n",
        "    sns.set()\n",
        "    fig, ax = plt.subplots(1,1, figsize = (8,6))\n",
        "\n",
        "    x = [round(ef_std*100, 2) for ef_std in efficientList]\n",
        "    y = [round(target*100, 2) for target in targetReturns]\n",
        "    ax.plot(x, y, label = 'Efficient Frontier', linestyle = '--', linewidth = 3, color = 'black')\n",
        "\n",
        "    ax.scatter([maxSR_std], [maxSR_returns], label = 'Maximum Sharpe Ratio', s = 100, c = ['red'])\n",
        "    ax.scatter([minVol_std], [minVol_returns], label = 'Minimum Volatility', s = 100, c = ['blue'])\n",
        "\n",
        "    ax.legend(prop={'size': 15})\n",
        "    ax.set_xlabel('Annualised Volatility (%)', size = 15)\n",
        "    ax.set_ylabel('Annualised Return (%)', size = 15)\n",
        "    ax.tick_params(axis='both', labelsize=15)\n",
        "\n",
        "    plt.show()\n",
        "    plt.close()\n",
        "    \n",
        "    return"
      ],
      "id": "Vg6qjx--UqZo",
      "execution_count": 106,
      "outputs": []
    },
    {
      "cell_type": "code",
      "metadata": {
        "colab": {
          "base_uri": "https://localhost:8080/",
          "height": 401
        },
        "id": "QOU4Q4IYVQEr",
        "outputId": "a36cd272-8ad6-4a99-d538-30406b825f1f"
      },
      "source": [
        "EF_graph(meanReturns, covMatrix)"
      ],
      "id": "QOU4Q4IYVQEr",
      "execution_count": 107,
      "outputs": [
        {
          "output_type": "display_data",
          "data": {
            "image/png": "[encoded data removed]",
            "text/plain": [
              "<Figure size 576x432 with 1 Axes>"
            ]
          },
          "metadata": {}
        }
      ]
    }
  ]
}